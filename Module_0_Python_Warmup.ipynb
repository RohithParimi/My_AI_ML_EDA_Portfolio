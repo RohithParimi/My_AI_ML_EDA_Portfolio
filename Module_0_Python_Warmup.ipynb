{
  "nbformat": 4,
  "nbformat_minor": 0,
  "metadata": {
    "colab": {
      "provenance": [],
      "authorship_tag": "ABX9TyO+RXHa15s9oUoM59Cm2y12",
      "include_colab_link": true
    },
    "kernelspec": {
      "name": "python3",
      "display_name": "Python 3"
    },
    "language_info": {
      "name": "python"
    }
  },
  "cells": [
    {
      "cell_type": "markdown",
      "metadata": {
        "id": "view-in-github",
        "colab_type": "text"
      },
      "source": [
        "<a href=\"https://colab.research.google.com/github/RohithParimi/My_AI_ML_EDA_Portfolio/blob/main/Module_0_Python_Warmup.ipynb\" target=\"_parent\"><img src=\"https://colab.research.google.com/assets/colab-badge.svg\" alt=\"Open In Colab\"/></a>"
      ]
    },
    {
      "cell_type": "code",
      "execution_count": 1,
      "metadata": {
        "colab": {
          "base_uri": "https://localhost:8080/"
        },
        "id": "plJzMX8Z0htG",
        "outputId": "209233e7-a458-42a5-deee-185922aa1c03"
      },
      "outputs": [
        {
          "output_type": "stream",
          "name": "stdout",
          "text": [
            "Name: Alice, Type: <class 'str'>\n",
            "Age: 30, Type: <class 'int'>\n",
            "Height: 175.5, Type: <class 'float'>\n",
            "Is Student: True, Type: <class 'bool'>\n"
          ]
        }
      ],
      "source": [
        "# Create variables of different data types\n",
        "name = \"Alice\"\n",
        "age = 30\n",
        "height_cm = 175.5\n",
        "is_student = True\n",
        "\n",
        "# Print their values and types\n",
        "print(f\"Name: {name}, Type: {type(name)}\")\n",
        "print(f\"Age: {age}, Type: {type(age)}\")\n",
        "print(f\"Height: {height_cm}, Type: {type(height_cm)}\")\n",
        "print(f\"Is Student: {is_student}, Type: {type(is_student)}\")"
      ]
    },
    {
      "cell_type": "code",
      "source": [
        "# Create a list of your favorite fruits\n",
        "fruits = [\"apple\", \"banana\", \"cherry\"]\n",
        "\n",
        "# Add a new fruit\n",
        "fruits.append(\"orange\")\n",
        "print(f\"Fruits: {fruits}\")\n",
        "\n",
        "# Create a dictionary representing a person's details\n",
        "person = {\n",
        "    \"first_name\": \"Bob\",\n",
        "    \"last_name\": \"Smith\",\n",
        "    \"age\": 25,\n",
        "    \"city\": \"New York\"\n",
        "}\n",
        "\n",
        "# Access and print values\n",
        "print(f\"Person's name: {person['first_name']} {person['last_name']}\")\n",
        "print(f\"Person's age: {person['age']}\")"
      ],
      "metadata": {
        "colab": {
          "base_uri": "https://localhost:8080/"
        },
        "id": "1yZHqHLH1VlK",
        "outputId": "ecf3d398-4dc6-4e8b-c837-844fcbd6941d"
      },
      "execution_count": 2,
      "outputs": [
        {
          "output_type": "stream",
          "name": "stdout",
          "text": [
            "Fruits: ['apple', 'banana', 'cherry', 'orange']\n",
            "Person's name: Bob Smith\n",
            "Person's age: 25\n"
          ]
        }
      ]
    },
    {
      "cell_type": "code",
      "source": [
        "# Define a function that takes two numbers and returns their sum\n",
        "def add_two_numbers(a, b):\n",
        "    return a + b\n",
        "\n",
        "# Call the function and print the result\n",
        "result = add_two_numbers(15, 7)\n",
        "print(f\"Sum of 15 and 7: {result}\")"
      ],
      "metadata": {
        "colab": {
          "base_uri": "https://localhost:8080/"
        },
        "id": "LUYBJ0VV1cXv",
        "outputId": "ccaf7213-f872-420e-9040-df4a61b53aa8"
      },
      "execution_count": 3,
      "outputs": [
        {
          "output_type": "stream",
          "name": "stdout",
          "text": [
            "Sum of 15 and 7: 22\n"
          ]
        }
      ]
    }
  ]
}