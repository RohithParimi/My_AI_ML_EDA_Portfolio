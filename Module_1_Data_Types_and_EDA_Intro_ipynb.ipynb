{
  "nbformat": 4,
  "nbformat_minor": 0,
  "metadata": {
    "colab": {
      "provenance": [],
      "authorship_tag": "ABX9TyNHkS5oT3wyty3dDgrEgD4y",
      "include_colab_link": true
    },
    "kernelspec": {
      "name": "python3",
      "display_name": "Python 3"
    },
    "language_info": {
      "name": "python"
    }
  },
  "cells": [
    {
      "cell_type": "markdown",
      "metadata": {
        "id": "view-in-github",
        "colab_type": "text"
      },
      "source": [
        "<a href=\"https://colab.research.google.com/github/RohithParimi/My_AI_ML_EDA_Portfolio/blob/main/Module_1_Data_Types_and_EDA_Intro_ipynb.ipynb\" target=\"_parent\"><img src=\"https://colab.research.google.com/assets/colab-badge.svg\" alt=\"Open In Colab\"/></a>"
      ]
    },
    {
      "cell_type": "markdown",
      "source": [
        "---\n",
        "\n",
        "### Module 1 Goals:\n",
        "\n",
        "* Understand what \"data\" truly means in the context of EDA.\n",
        "\n",
        "* Learn about different categories of data types and their significance.\n",
        "\n",
        "* Grasp the fundamental importance and purpose of Exploratory Data Analysis.\n",
        "\n",
        "* Get an overview of the typical EDA process.\n",
        "\n",
        "---\n",
        "**Concepts to Cover:**\n",
        "### 1. What is Data?\n",
        "\n",
        "* **Definition:** Raw facts, figures, or details that can be processed to produce information.\n",
        "* **Structured vs. Unstructured Data:**\n",
        " * **Structured:** Highly organized data that fits into a fixed field within a record or file. Examples: Databases (SQL), Excel spreadsheets, CSV files. Think rows and columns.\n",
        " * **Unstructured:** Data that does not have a pre-defined data model or is not organized in a pre-defined manner. Examples: Text documents, images, audio, video files, social media posts.\n",
        " * **Semi-structured:** A blend of both, having some organizational properties but not fully relational. Examples: XML, JSON files.\n",
        "* **Data Points/Observations/Records:** Each row in a structured dataset.\n",
        "* **Features/Attributes/Variables:** Each column in a structured dataset.\n",
        "\n",
        "### **2. Types of Data (in the context of statistical analysis):**\n",
        "\n",
        "This classification is critical because the type of data dictates which statistical methods and visualization techniques are appropriate.\n",
        "\n",
        "* **I. Numerical Data (Quantitative):** Represents measurable quantities.\n",
        "    * **A. Discrete:** Values are countable, often integers. They result from counting.\n",
        "        * *Examples:* Number of children in a family, count of defects, number of cars in a parking lot.\n",
        "    * **B. Continuous:** Values can take any value within a given range, often involving decimals. They result from measurement.\n",
        "        * *Examples:* Height, weight, temperature, time, price.\n",
        "\n",
        "* **II. Categorical Data (Qualitative):** Represents qualities or characteristics, often non-numerical.\n",
        "    * **A. Nominal:** Categories without any intrinsic order or ranking.\n",
        "        * *Examples:* Marital status (single, married, divorced), blood type (A, B, AB, O), color (red, blue, green). You can't say 'red' is \"greater\" than 'blue'.\n",
        "    * **B. Ordinal:** Categories with a clear order or ranking, but the intervals between ranks might not be equal.\n",
        "        * *Examples:* Education level (High School, Bachelor's, Master's, PhD), customer satisfaction (poor, fair, good, excellent), movie ratings (1-star, 2-star...). You can say 'Master's' is \"higher\" than 'Bachelor's', but the \"difference\" between Bachelor's and Master's might not be the same as High School and Bachelor's.\n",
        "\n",
        "* **III. Datetime Data:** Represents points or periods in time. Often needs special handling for extracting features like year, month, day of week, etc.\n",
        "    * *Examples:* '2023-01-15', '10:30:00', '2023-07-16 11:41:10'."
      ],
      "metadata": {
        "id": "P6qoU6clPht1"
      }
    },
    {
      "cell_type": "markdown",
      "source": [
        "---\n",
        "### **3. Why is EDA Crucial? (The \"Why\" behind it all)**\n",
        "* **Understanding the Data:** Get a deeper understanding of the dataset's structure, variables, and initial insights.\n",
        "* **Data Cleaning & Preparation:** Identify and handle missing values, outliers, inconsistencies, and errors.\n",
        "* **Feature Engineering Insight:** Discover relationships between variables that can lead to creating new, more informative features for models.\n",
        "* **Assumption Checking:** Verify assumptions required by certain machine learning models (e.g., normality, linearity).\n",
        "* **Pattern Discovery:** Uncover hidden patterns, trends, and anomalies.\n",
        "* **Informing Model Selection:** The characteristics of your data often guide which ML models will perform best.\n",
        "* **Communicating Insights:** Effectively present findings to stakeholders using visualizations and summaries."
      ],
      "metadata": {
        "id": "8xCfIsCWSIgx"
      }
    },
    {
      "cell_type": "markdown",
      "source": [
        "### **4. The Typical EDA Process Overview:**\n",
        "While iterative and flexible, a general EDA workflow often includes:\n",
        "* **1. Data Collection/Loading:** Getting your data into your environment.\n",
        "* **2. Data Cleaning:** Handling missing values, duplicates, correcting errors, data type conversions.\n",
        "* **3. Univariate Analysis:** Analyzing individual variables (distributions, central tendency, spread).\n",
        "* **4. Bivariate Analysis:** Analyzing relationships between two variables.\n",
        "* **5. Multivariate Analysis:** Analyzing relationships among three or more variables.\n",
        "* **6. Feature Engineering (initial):** Creating new features that might reveal more insights.\n",
        "* **7. Insight Generation & Visualization:** Drawing conclusions and creating compelling plots.\n",
        "* **8. Documentation:** Recording findings, assumptions, and next steps."
      ],
      "metadata": {
        "id": "gPFEhF4ASnth"
      }
    },
    {
      "cell_type": "markdown",
      "source": [
        "---\n",
        "* What is the primary difference between structured and unstructured data? Provide an example of each *not* mentioned above.\n",
        "\n",
        " *Ans: Structured data will be in rows and columns format(Excel files,Databases) while for unstructured data there will be no specific format(Images,text,Audio)*\n",
        "\n",
        "* Explain the difference between Discrete and Continuous numerical data. Give an example for each.\n",
        "\n",
        " Discrete: Occured due to counting the specific variable. ex: How many steps you walked it can be integers not any decimal values.\n",
        " Continous: The data will be in continuous in nature. ex: Exact height\n",
        "\n",
        "* Explain the difference between Nominal and Ordinal categorical data. Give an example for each.\n",
        "\n",
        " Nominal: The text or any categorical data there is no rating associated with the value of the item. eg: Food you have ordered\n",
        " Ordinal: The text or any categorical data there is a rating associated with the value of the item and there is no specific exact rule the difference b/w the values remain same. eg: Rating of the Food you have ordered\n",
        "\n",
        "* In your opinion, what is the *most* important reason to perform EDA before building a machine learning model? Why?\n",
        "\n",
        " We can choose the best model based on the data that we had after processed and as the data is clean since we had removed the outliers,null values etc the efficiency of the model will get increases\n",
        "* Briefly list the steps of a typical EDA process.\n",
        "\n",
        " data gathering and loading\n",
        " data cleaning\n",
        " Intial analysis\n",
        " univariate analysis\n",
        " bi variate analysis\n",
        " multi variate analysis\n",
        " feature selection and feature engineering\n",
        " documentation"
      ],
      "metadata": {
        "id": "WwzqLyzdTbLj"
      }
    },
    {
      "cell_type": "code",
      "source": [
        "# Numerical Data\n",
        "num_students = 50  # Discrete\n",
        "avg_score = 85.75 # Continuous\n",
        "\n",
        "# Categorical Data\n",
        "eye_color = \"blue\" # Nominal\n",
        "satisfaction_rating = \"Excellent\" # Ordinal\n",
        "\n",
        "# Datetime Data\n",
        "event_date = \"2024-10-26\" # We'll learn to handle this properly later\n",
        "\n",
        "print(f\"num_students: {num_students}, Type: {type(num_students)}\")\n",
        "print(f\"avg_score: {avg_score}, Type: {type(avg_score)}\")\n",
        "print(f\"eye_color: {eye_color}, Type: {type(eye_color)}\")\n",
        "print(f\"satisfaction_rating: {satisfaction_rating}, Type: {type(satisfaction_rating)}\")\n",
        "print(f\"event_date: {event_date}, Type: {type(event_date)}\")"
      ],
      "metadata": {
        "colab": {
          "base_uri": "https://localhost:8080/"
        },
        "id": "PeQJ56vYHY7Y",
        "outputId": "7209d7b8-d181-4ef5-cc1b-ef82757f8f0b"
      },
      "execution_count": 1,
      "outputs": [
        {
          "output_type": "stream",
          "name": "stdout",
          "text": [
            "num_students: 50, Type: <class 'int'>\n",
            "avg_score: 85.75, Type: <class 'float'>\n",
            "eye_color: blue, Type: <class 'str'>\n",
            "satisfaction_rating: Excellent, Type: <class 'str'>\n",
            "event_date: 2024-10-26, Type: <class 'str'>\n"
          ]
        }
      ]
    },
    {
      "cell_type": "markdown",
      "source": [],
      "metadata": {
        "id": "v7HRGOYOTmvB"
      }
    },
    {
      "cell_type": "markdown",
      "source": [],
      "metadata": {
        "id": "3fFjjASjTnlN"
      }
    },
    {
      "cell_type": "code",
      "execution_count": null,
      "metadata": {
        "id": "Fw9TFtpaPa4h"
      },
      "outputs": [],
      "source": []
    }
  ]
}